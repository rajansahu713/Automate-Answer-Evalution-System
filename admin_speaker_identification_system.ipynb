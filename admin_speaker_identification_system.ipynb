{
 "cells": [
  {
   "cell_type": "code",
   "execution_count": 1,
   "metadata": {},
   "outputs": [
    {
     "name": "stdout",
     "output_type": "stream",
     "text": [
      "Database opened successfully\n",
      "Table created successfully\n"
     ]
    }
   ],
   "source": [
    "import sqlite3  \n",
    "  \n",
    "con = sqlite3.connect(\"employee.db\")  \n",
    "print(\"Database opened successfully\")  \n",
    "  \n",
    "con.execute(\"create table Employees (id INTEGER PRIMARY KEY AUTOINCREMENT, name TEXT NOT NULL, roll TEXT UNIQUE NOT NULL, email TEXT NOT NULL, marks_short TEXT NOT NULL, marks_des TEXT NOT NULL)\")  \n",
    "  \n",
    "print(\"Table created successfully\")  \n",
    "  \n",
    "con.close()"
   ]
  },
  {
   "cell_type": "code",
   "execution_count": null,
   "metadata": {},
   "outputs": [
    {
     "name": "stderr",
     "output_type": "stream",
     "text": [
      " * Running on http://localhost:9000/ (Press CTRL+C to quit)\n",
      "127.0.0.1 - - [11/May/2020 09:36:40] \"\u001b[37mGET / HTTP/1.1\u001b[0m\" 200 -\n",
      "127.0.0.1 - - [11/May/2020 09:36:45] \"\u001b[37mGET /view HTTP/1.1\u001b[0m\" 200 -\n",
      "127.0.0.1 - - [11/May/2020 09:36:57] \"\u001b[37mGET / HTTP/1.1\u001b[0m\" 200 -\n",
      "127.0.0.1 - - [11/May/2020 09:37:00] \"\u001b[37mGET /add HTTP/1.1\u001b[0m\" 200 -\n",
      "127.0.0.1 - - [11/May/2020 09:37:49] \"\u001b[37mPOST /savedetails HTTP/1.1\u001b[0m\" 200 -\n",
      "127.0.0.1 - - [11/May/2020 09:37:52] \"\u001b[37mGET /view HTTP/1.1\u001b[0m\" 200 -\n",
      "127.0.0.1 - - [11/May/2020 09:37:56] \"\u001b[37mGET / HTTP/1.1\u001b[0m\" 200 -\n",
      "127.0.0.1 - - [11/May/2020 09:38:01] \"\u001b[37mGET /add HTTP/1.1\u001b[0m\" 200 -\n",
      "127.0.0.1 - - [11/May/2020 09:38:52] \"\u001b[37mPOST /savedetails HTTP/1.1\u001b[0m\" 200 -\n",
      "127.0.0.1 - - [11/May/2020 09:38:54] \"\u001b[37mGET /view HTTP/1.1\u001b[0m\" 200 -\n",
      "127.0.0.1 - - [11/May/2020 09:38:57] \"\u001b[37mGET / HTTP/1.1\u001b[0m\" 200 -\n",
      "127.0.0.1 - - [11/May/2020 09:39:00] \"\u001b[37mGET /add HTTP/1.1\u001b[0m\" 200 -\n",
      "127.0.0.1 - - [11/May/2020 09:39:31] \"\u001b[37mPOST /savedetails HTTP/1.1\u001b[0m\" 200 -\n",
      "127.0.0.1 - - [11/May/2020 09:39:33] \"\u001b[37mGET /view HTTP/1.1\u001b[0m\" 200 -\n"
     ]
    }
   ],
   "source": [
    "from werkzeug.wrappers import Request, Response\n",
    "from flask import *  \n",
    "import sqlite3  \n",
    "  \n",
    "app = Flask(__name__)  \n",
    " \n",
    "@app.route(\"/\")  \n",
    "def index():  \n",
    "    return render_template(\"A_index.html\");  \n",
    " \n",
    "@app.route(\"/add\")  \n",
    "def add():  \n",
    "    return render_template(\"A_add.html\")  \n",
    " \n",
    "@app.route(\"/savedetails\",methods = [\"POST\",\"GET\"])  \n",
    "def saveDetails():  \n",
    "    msg = \"msg\"  \n",
    "    if request.method == \"POST\":  \n",
    "        try:  \n",
    "            name = request.form[\"name\"]  \n",
    "            email = request.form[\"email\"]  \n",
    "            address = request.form[\"address\"]  \n",
    "            with sqlite3.connect(\"employee.db\") as con:  \n",
    "                cur = con.cursor()  \n",
    "                cur.execute(\"INSERT into Employees (name, email, address) values (?,?,?)\",(name,email,address))  \n",
    "                con.commit()  \n",
    "                msg = \"Employee successfully Added\"  \n",
    "        except:  \n",
    "            con.rollback()  \n",
    "            msg = \"We can not add the employee to the list\"  \n",
    "        finally:  \n",
    "            return render_template(\"A_success.html\",msg = msg)  \n",
    "            con.close()  \n",
    " \n",
    "@app.route(\"/view\")  \n",
    "def view():  \n",
    "    #t=1\n",
    "    con = sqlite3.connect(\"employee.db\")  \n",
    "    con.row_factory = sqlite3.Row  \n",
    "    cur = con.cursor()  \n",
    "    cur.execute(\"select * from Employees\")\n",
    "    #cur.execute(\"select * from Employees where ID = {}\".format(t))  \n",
    "    rows = cur.fetchall()  \n",
    "    return render_template(\"A_view.html\",rows = rows)  \n",
    " \n",
    " \n",
    "@app.route(\"/delete\")  \n",
    "def delete():  \n",
    "    return render_template(\"A_delete.html\")  \n",
    " \n",
    "@app.route(\"/deleterecord\",methods = [\"POST\"])  \n",
    "def deleterecord():  \n",
    "    id = request.form[\"id\"]  \n",
    "    with sqlite3.connect(\"employee.db\") as con:  \n",
    "        try:  \n",
    "            cur = con.cursor()  \n",
    "            cur.execute(\"delete from Employees where id = ?\",id)  \n",
    "            msg = \"record successfully deleted\"  \n",
    "        except:  \n",
    "            msg = \"can't be deleted\"  \n",
    "        finally:  \n",
    "            return render_template(\"A_delete_record.html\",msg = msg)  \n",
    "  \n",
    "if __name__ == '__main__':\n",
    "    from werkzeug.serving import run_simple\n",
    "    run_simple('localhost', 9000, app)"
   ]
  },
  {
   "cell_type": "code",
   "execution_count": null,
   "metadata": {},
   "outputs": [],
   "source": []
  }
 ],
 "metadata": {
  "kernelspec": {
   "display_name": "Python 3",
   "language": "python",
   "name": "python3"
  },
  "language_info": {
   "codemirror_mode": {
    "name": "ipython",
    "version": 3
   },
   "file_extension": ".py",
   "mimetype": "text/x-python",
   "name": "python",
   "nbconvert_exporter": "python",
   "pygments_lexer": "ipython3",
   "version": "3.7.4"
  }
 },
 "nbformat": 4,
 "nbformat_minor": 4
}
